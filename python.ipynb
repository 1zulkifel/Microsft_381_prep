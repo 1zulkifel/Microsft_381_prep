{
 "cells": [
  {
   "cell_type": "code",
   "execution_count": 17,
   "metadata": {},
   "outputs": [
    {
     "name": "stdout",
     "output_type": "stream",
     "text": [
      "hello\n",
      " default msg\n",
      "(5, 6)\n",
      "11 30\n"
     ]
    }
   ],
   "source": [
    "def my_print(message=\" default msg\"):\n",
    "    print(message)\n",
    "my_print(\"hello\")\n",
    "my_print()\n",
    "def sm_pro(x,y):\n",
    "    return(x+y), (x*y)\n",
    "sp=sm_pro(2,3)\n",
    "print(sp)\n",
    "s,p=sm_pro(5,6)\n",
    "print(s,p)\n"
   ]
  },
  {
   "cell_type": "code",
   "execution_count": 54,
   "metadata": {},
   "outputs": [
    {
     "data": {
      "text/plain": [
       "{'usb': 50, 'DVD': 40, 'CD': 10, 'H-free': 20}"
      ]
     },
     "execution_count": 54,
     "metadata": {},
     "output_type": "execute_result"
    }
   ],
   "source": [
    "dict_1={\"usb\":50,\"LED\":30,\"DVD\":40,\"CD\":10,\"H-free\":20,}\n",
    "while \"LED\" in dict_1:\n",
    "    del dict_1[\"LED\"]\n",
    "    dup=dict_1\n",
    "dup\n",
    "\n"
   ]
  },
  {
   "cell_type": "code",
   "execution_count": 34,
   "metadata": {},
   "outputs": [
    {
     "name": "stdout",
     "output_type": "stream",
     "text": [
      "('usb', 50)\n",
      "('lED', 30)\n",
      "('DVD', 40)\n",
      "('CD', 10)\n",
      "('H-free', 20)\n",
      "[('usb', 50), ('lED', 30), ('DVD', 40), ('CD', 10), ('H-free', 20)]\n"
     ]
    }
   ],
   "source": [
    "# Dictionaries\n",
    "a=[]\n",
    "dict_1={\"usb\":50,\"lED\":30,\"DVD\":40,\"CD\":10,\"H-free\":20,}\n",
    "for x in dict_1.items():\n",
    "    print(x)\n",
    "    a.append(x)\n",
    "print(a)\n",
    "\n",
    "    \n",
    "    \n"
   ]
  },
  {
   "cell_type": "code",
   "execution_count": 132,
   "metadata": {},
   "outputs": [
    {
     "name": "stdout",
     "output_type": "stream",
     "text": [
      "usb\n",
      "lED\n",
      "DVD\n",
      "CD\n",
      "H-free\n",
      "enter name of product(or x to exit) DVD\n",
      "the price of this product is : 40\n"
     ]
    }
   ],
   "source": [
    "product_elt={\"usb\":50,\"lED\":30,\"DVD\":40,\"CD\":10,\"H-free\":20,} \n",
    "for x in product_elt: \n",
    "    print(x) \n",
    "def exist_in (a,name):\n",
    "    result=False \n",
    "    for x in a:\n",
    "        #result=False \n",
    "        if x==name: \n",
    "            result=True \n",
    "    return result\n",
    "\n",
    "\n",
    "exit_vab=False \n",
    "while exit_vab==False: \n",
    "    input_vab=input(\"enter name of product(or x to exit) \")\n",
    "    if exist_in (product_elt,input_vab):\n",
    "        print(\"the price of this product is :\",product_elt[input_vab])\n",
    "        if exist_in (product_elt,input_vab)==False and input_vab!=(\"x\"):\n",
    "            print(\"that item is not exist!\")\n",
    "    if input_vab==(\"x\"):\n",
    "        exit_vab=True\n",
    "    break\n",
    "    \n",
    "        "
   ]
  },
  {
   "cell_type": "code",
   "execution_count": 124,
   "metadata": {},
   "outputs": [
    {
     "data": {
      "text/plain": [
       "11"
      ]
     },
     "execution_count": 124,
     "metadata": {},
     "output_type": "execute_result"
    }
   ],
   "source": [
    "#modules are small pieces of code.\n",
    "from random import randint\n",
    "randint(0,12)\n",
    "import random as rnd\n",
    "rnd.randint(1,44)"
   ]
  },
  {
   "cell_type": "code",
   "execution_count": 143,
   "metadata": {},
   "outputs": [
    {
     "name": "stdout",
     "output_type": "stream",
     "text": [
      "civic 123 black 300km/hr manual PKr-3400000\n"
     ]
    }
   ],
   "source": [
    "#function \n",
    "class car:\n",
    "    \n",
    "    def __init__(self,name,model,color,maxspeed,gear,price):\n",
    "        self.name = name\n",
    "        self.model=model\n",
    "        self.color=color\n",
    "        self.maxspeed=maxspeed\n",
    "        self.gear=gear\n",
    "        self.price=price\n",
    "    \n",
    "civic=car(\"civic\",\"123\",\"black\",\"300km/hr\",\"manual\",\"PKr-3400000\")\n",
    "print(civic.name,civic.model,civic.color,civic.maxspeed,civic.gear,civic.price)"
   ]
  },
  {
   "cell_type": "code",
   "execution_count": 154,
   "metadata": {},
   "outputs": [
    {
     "name": "stdout",
     "output_type": "stream",
     "text": [
      "zulkifel 111111 25\n",
      "zulkifel 111111 62.5\n"
     ]
    }
   ],
   "source": [
    "class employe:\n",
    "    increment=2.5\n",
    "    def __init__(self,name,cnic,salary):\n",
    "        self.name=name\n",
    "        self.cnic=cnic\n",
    "        self.salary=salary\n",
    "        \n",
    "    def increase(self):\n",
    "        self.salary=self.salary*employe.increment\n",
    "        \n",
    "user=employe('zulkifel','111111',25)\n",
    "print(user.name,user.cnic,user.salary)\n",
    "user.increase()\n",
    "print(user.name,user.cnic,user.salary)"
   ]
  },
  {
   "cell_type": "code",
   "execution_count": 157,
   "metadata": {},
   "outputs": [
    {
     "name": "stdout",
     "output_type": "stream",
     "text": [
      "enter a number:2\n",
      "enter a number:0\n",
      "you can't divide by zero\n"
     ]
    }
   ],
   "source": [
    "#exception\n",
    "\n",
    "a=int(input('enter a number:'))\n",
    "b=int(input('enter a number:'))\n",
    "try:\n",
    "    a/b\n",
    "except ZeroDivisionError:\n",
    "    print(\"you can't divide by zero\")"
   ]
  },
  {
   "cell_type": "code",
   "execution_count": null,
   "metadata": {},
   "outputs": [],
   "source": [
    "#GUI\n",
    "import tkinter as tk\n",
    "\n",
    "window=tk.Tk()\n",
    "text_box=tk.Entry(window)\n",
    "def textsave():\n",
    "    str1=text_box.get()\n",
    "    file=open(\"file1\",\"w\")\n",
    "    file.write(str1)\n",
    "    file.close\n",
    "btn1=tk.Button(window,text=\"save\",command=textsave)\n",
    "text_box.pack()\n",
    "btn1.pack()\n",
    "window.mainloop()"
   ]
  },
  {
   "cell_type": "code",
   "execution_count": 2,
   "metadata": {},
   "outputs": [
    {
     "ename": "OperationalError",
     "evalue": "near \"NOT\": syntax error",
     "output_type": "error",
     "traceback": [
      "\u001b[0;31m---------------------------------------------------------------------------\u001b[0m",
      "\u001b[0;31mOperationalError\u001b[0m                          Traceback (most recent call last)",
      "\u001b[0;32m<ipython-input-2-30d52103af04>\u001b[0m in \u001b[0;36m<module>\u001b[0;34m\u001b[0m\n\u001b[1;32m     24\u001b[0m \u001b[0;34m\u001b[0m\u001b[0m\n\u001b[1;32m     25\u001b[0m \u001b[0;32mfor\u001b[0m \u001b[0mi\u001b[0m \u001b[0;32min\u001b[0m \u001b[0mrange\u001b[0m \u001b[0;34m(\u001b[0m\u001b[0;36m0\u001b[0m\u001b[0;34m,\u001b[0m\u001b[0;36m20\u001b[0m\u001b[0;34m)\u001b[0m\u001b[0;34m:\u001b[0m\u001b[0;34m\u001b[0m\u001b[0;34m\u001b[0m\u001b[0m\n\u001b[0;32m---> 26\u001b[0;31m     \u001b[0mdy_entry\u001b[0m\u001b[0;34m(\u001b[0m\u001b[0;34m)\u001b[0m\u001b[0;34m\u001b[0m\u001b[0;34m\u001b[0m\u001b[0m\n\u001b[0m\u001b[1;32m     27\u001b[0m     \u001b[0mtime\u001b[0m\u001b[0;34m.\u001b[0m\u001b[0msleep\u001b[0m \u001b[0;34m(\u001b[0m\u001b[0;36m1\u001b[0m\u001b[0;34m)\u001b[0m\u001b[0;34m\u001b[0m\u001b[0;34m\u001b[0m\u001b[0m\n\u001b[1;32m     28\u001b[0m \u001b[0;34m\u001b[0m\u001b[0m\n",
      "\u001b[0;32m<ipython-input-2-30d52103af04>\u001b[0m in \u001b[0;36mdy_entry\u001b[0;34m()\u001b[0m\n\u001b[1;32m     19\u001b[0m     \u001b[0mkeyword\u001b[0m\u001b[0;34m=\u001b[0m\u001b[0;34m'zulkifel'\u001b[0m\u001b[0;34m\u001b[0m\u001b[0;34m\u001b[0m\u001b[0m\n\u001b[1;32m     20\u001b[0m     \u001b[0mvalue\u001b[0m\u001b[0;34m=\u001b[0m\u001b[0mrandom\u001b[0m\u001b[0;34m.\u001b[0m\u001b[0mrandrange\u001b[0m\u001b[0;34m(\u001b[0m\u001b[0;36m0\u001b[0m\u001b[0;34m,\u001b[0m\u001b[0;36m20\u001b[0m\u001b[0;34m)\u001b[0m\u001b[0;34m\u001b[0m\u001b[0;34m\u001b[0m\u001b[0m\n\u001b[0;32m---> 21\u001b[0;31m     \u001b[0mdb1_cursor\u001b[0m\u001b[0;34m.\u001b[0m\u001b[0mexecute\u001b[0m\u001b[0;34m(\u001b[0m\u001b[0;34m\"INSERT INTO IF NOT EXIST users(unix, datestamp, keyword, value) VALUES(?, ?, ?,?)\"\u001b[0m\u001b[0;34m,\u001b[0m\u001b[0;34m(\u001b[0m\u001b[0munix\u001b[0m\u001b[0;34m,\u001b[0m \u001b[0mdate\u001b[0m\u001b[0;34m,\u001b[0m \u001b[0mkeyword\u001b[0m\u001b[0;34m,\u001b[0m \u001b[0mvalue\u001b[0m\u001b[0;34m)\u001b[0m\u001b[0;34m)\u001b[0m\u001b[0;34m\u001b[0m\u001b[0;34m\u001b[0m\u001b[0m\n\u001b[0m\u001b[1;32m     22\u001b[0m \u001b[0;34m\u001b[0m\u001b[0m\n\u001b[1;32m     23\u001b[0m     \u001b[0mdatabase1\u001b[0m\u001b[0;34m.\u001b[0m\u001b[0mcommit\u001b[0m\u001b[0;34m(\u001b[0m\u001b[0;34m)\u001b[0m\u001b[0;34m\u001b[0m\u001b[0;34m\u001b[0m\u001b[0m\n",
      "\u001b[0;31mOperationalError\u001b[0m: near \"NOT\": syntax error"
     ]
    }
   ],
   "source": [
    "#working sqlite for for creating severless data base\n",
    "import sqlite3 as sql\n",
    "import time\n",
    "import datetime\n",
    "import random\n",
    "database1=sql.connect('my_fisrt.db')\n",
    "db1_cursor=database1.cursor()\n",
    "\n",
    "def create_table():\n",
    "    db1_cursor.execute('CREATE TABLE IF NOT EXISTS users(unix REAL, datestamp TEXT,keyword Text,value REAL)')\n",
    "def data_entry():\n",
    "    db1_cursor.execute(\"INSERT INTO users VALUES(123,'03-03-2020','zulkifel',375)\")\n",
    "    database1.commit()\n",
    "    db1_cursor.close()\n",
    "    database1.close()\n",
    "\n",
    "def dy_entry():\n",
    "    unix=time.time()\n",
    "    date=str(datetime.datetime.fromtimestamp(unix).strftime('%y-%m-%d %H:%M:%s'))\n",
    "    keyword='zulkifel'\n",
    "    value=random.randrange(0,20)\n",
    "    db1_cursor.execute(\"INSERT INTO IF NOT EXIST users(unix, datestamp, keyword, value) VALUES(?, ?, ?,?)\",(unix, date, keyword, value))\n",
    "                       \n",
    "    database1.commit()\n",
    "                   \n",
    "for i in range (0,20):\n",
    "    dy_entry()\n",
    "    time.sleep (1)\n",
    "                 \n",
    "create_table()                       \n",
    "db1_cursor.close()\n",
    "database1.close()                       \n",
    "                       \n",
    " "
   ]
  },
  {
   "cell_type": "code",
   "execution_count": 14,
   "metadata": {},
   "outputs": [
    {
     "ename": "TypeError",
     "evalue": "an integer is required (got type builtin_function_or_method)",
     "output_type": "error",
     "traceback": [
      "\u001b[0;31m---------------------------------------------------------------------------\u001b[0m",
      "\u001b[0;31mTypeError\u001b[0m                                 Traceback (most recent call last)",
      "\u001b[0;32m<ipython-input-14-e6817c87db2f>\u001b[0m in \u001b[0;36m<module>\u001b[0;34m\u001b[0m\n\u001b[1;32m     26\u001b[0m \u001b[0;31m#data_entry()\u001b[0m\u001b[0;34m\u001b[0m\u001b[0;34m\u001b[0m\u001b[0;34m\u001b[0m\u001b[0m\n\u001b[1;32m     27\u001b[0m \u001b[0;32mfor\u001b[0m \u001b[0mi\u001b[0m \u001b[0;32min\u001b[0m \u001b[0mrange\u001b[0m\u001b[0;34m(\u001b[0m\u001b[0;36m0\u001b[0m\u001b[0;34m,\u001b[0m\u001b[0;36m15\u001b[0m\u001b[0;34m)\u001b[0m\u001b[0;34m:\u001b[0m\u001b[0;34m\u001b[0m\u001b[0;34m\u001b[0m\u001b[0m\n\u001b[0;32m---> 28\u001b[0;31m     \u001b[0mdynamic_data_entry\u001b[0m\u001b[0;34m(\u001b[0m\u001b[0;34m)\u001b[0m\u001b[0;34m\u001b[0m\u001b[0;34m\u001b[0m\u001b[0m\n\u001b[0m\u001b[1;32m     29\u001b[0m     \u001b[0mtime\u001b[0m\u001b[0;34m.\u001b[0m\u001b[0msleep\u001b[0m\u001b[0;34m(\u001b[0m\u001b[0;36m1\u001b[0m\u001b[0;34m)\u001b[0m\u001b[0;34m\u001b[0m\u001b[0;34m\u001b[0m\u001b[0m\n\u001b[1;32m     30\u001b[0m \u001b[0mc\u001b[0m\u001b[0;34m.\u001b[0m\u001b[0mclose\u001b[0m\u001b[0;34m(\u001b[0m\u001b[0;34m)\u001b[0m\u001b[0;34m\u001b[0m\u001b[0;34m\u001b[0m\u001b[0m\n",
      "\u001b[0;32m<ipython-input-14-e6817c87db2f>\u001b[0m in \u001b[0;36mdynamic_data_entry\u001b[0;34m()\u001b[0m\n\u001b[1;32m     16\u001b[0m \u001b[0;32mdef\u001b[0m \u001b[0mdynamic_data_entry\u001b[0m\u001b[0;34m(\u001b[0m\u001b[0;34m)\u001b[0m\u001b[0;34m:\u001b[0m\u001b[0;34m\u001b[0m\u001b[0;34m\u001b[0m\u001b[0m\n\u001b[1;32m     17\u001b[0m     \u001b[0munix\u001b[0m\u001b[0;34m=\u001b[0m\u001b[0mtime\u001b[0m\u001b[0;34m.\u001b[0m\u001b[0mtime\u001b[0m\u001b[0;34m\u001b[0m\u001b[0;34m\u001b[0m\u001b[0m\n\u001b[0;32m---> 18\u001b[0;31m     \u001b[0mdate\u001b[0m\u001b[0;34m=\u001b[0m\u001b[0mstr\u001b[0m\u001b[0;34m(\u001b[0m\u001b[0mdatetime\u001b[0m\u001b[0;34m.\u001b[0m\u001b[0mdatetime\u001b[0m\u001b[0;34m.\u001b[0m\u001b[0mfromtimestamp\u001b[0m\u001b[0;34m(\u001b[0m\u001b[0munix\u001b[0m\u001b[0;34m)\u001b[0m\u001b[0;34m.\u001b[0m\u001b[0mstrftime\u001b[0m\u001b[0;34m(\u001b[0m\u001b[0;34m'%Y-%m-%d %H:%M:%S'\u001b[0m\u001b[0;34m)\u001b[0m\u001b[0;34m)\u001b[0m\u001b[0;34m\u001b[0m\u001b[0;34m\u001b[0m\u001b[0m\n\u001b[0m\u001b[1;32m     19\u001b[0m     \u001b[0mkeyword\u001b[0m\u001b[0;34m=\u001b[0m\u001b[0;34m'zulli'\u001b[0m\u001b[0;34m\u001b[0m\u001b[0;34m\u001b[0m\u001b[0m\n\u001b[1;32m     20\u001b[0m     \u001b[0mvalue\u001b[0m\u001b[0;34m=\u001b[0m\u001b[0mrandom\u001b[0m\u001b[0;34m.\u001b[0m\u001b[0mradnrange\u001b[0m\u001b[0;34m(\u001b[0m\u001b[0;36m0\u001b[0m\u001b[0;34m,\u001b[0m\u001b[0;36m15\u001b[0m\u001b[0;34m)\u001b[0m\u001b[0;34m\u001b[0m\u001b[0;34m\u001b[0m\u001b[0m\n",
      "\u001b[0;31mTypeError\u001b[0m: an integer is required (got type builtin_function_or_method)"
     ]
    }
   ],
   "source": [
    "import sqlite3\n",
    "import time\n",
    "import datetime\n",
    "import random\n",
    "\n",
    "conn=sqlite3.connect('database.db')\n",
    "c=conn.cursor()\n",
    "def create_table():\n",
    "    c.execute('CREATE TABLE IF NOT EXISTS stuffToPlot(unix REAL,datestamp TEXT,keyword TEXT,value REAL)')\n",
    "\n",
    "def data_entry():\n",
    "    c.execute(\"INSERT INTO stuffToPlot VALUES(32236,'2020-03-12','zklfahmd',2234442)\")\n",
    "    conn.commit()\n",
    "    c.close()\n",
    "    conn.close()\n",
    "def dynamic_data_entry():\n",
    "    unix=time.time\n",
    "    date=str(datetime.datetime.fromtimestamp(unix).strftime('%Y-%m-%d %H:%M:%S'))\n",
    "    keyword='zulli'\n",
    "    value=random.radnrange(0,15)\n",
    "    c.execute(\"INSERT INTO stuffToPlot(unix,datestamp,keyword,vslue) VALUES(?,?,?,?)\",(unix,date,keyword,value))\n",
    "    \n",
    "    conn.commit()\n",
    "\n",
    "create_table()\n",
    "#data_entry()\n",
    "for i in range(0,15):\n",
    "    dynamic_data_entry()\n",
    "    time.sleep(1)\n",
    "c.close()\n",
    "conn.close()"
   ]
  },
  {
   "cell_type": "code",
   "execution_count": null,
   "metadata": {},
   "outputs": [],
   "source": []
  }
 ],
 "metadata": {
  "kernelspec": {
   "display_name": "Python 3",
   "language": "python",
   "name": "python3"
  },
  "language_info": {
   "codemirror_mode": {
    "name": "ipython",
    "version": 3
   },
   "file_extension": ".py",
   "mimetype": "text/x-python",
   "name": "python",
   "nbconvert_exporter": "python",
   "pygments_lexer": "ipython3",
   "version": "3.7.4"
  }
 },
 "nbformat": 4,
 "nbformat_minor": 2
}
